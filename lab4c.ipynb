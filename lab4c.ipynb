{
 "cells": [
  {
   "cell_type": "markdown",
   "metadata": {},
   "source": [
    "# Lab 4c: Querying Data using SQL\n",
    "\n",
    "** Introduction **\n",
    "\n",
    "In this lab,  you will learn to write [Structured Query Language (SQL)](https://www.w3schools.com/sql/), which is widely used for retrieve information from database. You will identify the key elements in querying data and understand how relational algebra and SQL can be related to each other. It gives you a sense of how theory can be applied to practice.\n",
    "\n",
    "** Objective **\n",
    "\n",
    "Learn how to filter records that satisfy a certain requirement based on several constraints. We will write several SQL queries to extract data. \n",
    "\n",
    "** Tasks **:\n",
    "1. Write several SQL statements"
   ]
  },
  {
   "cell_type": "markdown",
   "metadata": {},
   "source": [
    "** Note:** We have created a database with the student data in the previous lab (4.2)."
   ]
  },
  {
   "cell_type": "markdown",
   "metadata": {},
   "source": [
    "To start with, IPython has a \"magic\" called [sql](https://pypi.python.org/pypi/ipython-sql). This extension allows us to run SQL queries on a database without writing Python support code. To install this magic, run the following command in your Terminal:\n",
    "\n",
    "`pip install ipython-sql`\n",
    "\n",
    "The following two lines load this SQL extension and connect to your student database:"
   ]
  },
  {
   "cell_type": "code",
   "execution_count": null,
   "metadata": {},
   "outputs": [],
   "source": [
    "%reload_ext sql\n",
    "%sql sqlite:///student.db"
   ]
  },
  {
   "cell_type": "markdown",
   "metadata": {},
   "source": [
    "** Example 1**: The following is an example of how the sql magic interface works. Jupyter Notebook interprets all cells beginning with \"%%sql\" as SQL commands.\n",
    "\n",
    "This example gets the id, name and degree of all students."
   ]
  },
  {
   "cell_type": "code",
   "execution_count": null,
   "metadata": {},
   "outputs": [],
   "source": [
    "%%sql\n",
    "SELECT *\n",
    "FROM students;"
   ]
  },
  {
   "cell_type": "markdown",
   "metadata": {},
   "source": [
    "** Example 2** JOIN is one of the most common operators in SQL. Below is an example of JOIN: \n",
    "\n",
    "This example finds the names of instructors who teach the student of id 1."
   ]
  },
  {
   "cell_type": "code",
   "execution_count": null,
   "metadata": {},
   "outputs": [],
   "source": [
    "%%sql\n",
    "SELECT c.name, student_id\n",
    "FROM courses AS c\n",
    "JOIN fact_table AS f\n",
    "WHERE c.id=f.course_id AND f.student_id=1"
   ]
  },
  {
   "cell_type": "markdown",
   "metadata": {},
   "source": [
    "##### Note:\n",
    "\n",
    "To view more examples and in order to get familiar with the SQL syntax, we recommend looking at the following website:\n",
    "    \n",
    "https://www.w3schools.com/sql/sql_syntax.asp"
   ]
  },
  {
   "cell_type": "markdown",
   "metadata": {},
   "source": [
    "** TASK 1 **:  Find the number of courses in the instructors table."
   ]
  },
  {
   "cell_type": "code",
   "execution_count": null,
   "metadata": {},
   "outputs": [],
   "source": [
    "# YOUR CODE HERE"
   ]
  },
  {
   "cell_type": "markdown",
   "metadata": {},
   "source": [
    "** TASK 2 **: Find the name all graduate students."
   ]
  },
  {
   "cell_type": "code",
   "execution_count": null,
   "metadata": {},
   "outputs": [],
   "source": [
    "# YOUR CODE HERE"
   ]
  },
  {
   "cell_type": "markdown",
   "metadata": {},
   "source": [
    "** TASK 3 **: Find the average age of all students."
   ]
  },
  {
   "cell_type": "code",
   "execution_count": null,
   "metadata": {},
   "outputs": [],
   "source": [
    "# YOUR CODE HERE"
   ]
  },
  {
   "cell_type": "markdown",
   "metadata": {},
   "source": [
    "** TASK 4 **: Find the names of students enrolled in a course taught by Ugur."
   ]
  },
  {
   "cell_type": "code",
   "execution_count": null,
   "metadata": {},
   "outputs": [],
   "source": [
    "# YOUR CODE HERE"
   ]
  },
  {
   "cell_type": "markdown",
   "metadata": {},
   "source": [
    "The second part of the lab is [here](https://medium.com/@lukezhu/data-1030-lab-4c-running-queries-on-google-cloud-d0a34f9c8162)."
   ]
  }
 ],
 "metadata": {
  "kernelspec": {
   "display_name": "Python 3",
   "language": "python",
   "name": "python3"
  },
  "language_info": {
   "codemirror_mode": {
    "name": "ipython",
    "version": 3
   },
   "file_extension": ".py",
   "mimetype": "text/x-python",
   "name": "python",
   "nbconvert_exporter": "python",
   "pygments_lexer": "ipython3",
   "version": "3.6.1"
  }
 },
 "nbformat": 4,
 "nbformat_minor": 2
}
